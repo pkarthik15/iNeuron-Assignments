{
  "nbformat": 4,
  "nbformat_minor": 0,
  "metadata": {
    "kernelspec": {
      "display_name": "Python 3",
      "language": "python",
      "name": "python3"
    },
    "language_info": {
      "codemirror_mode": {
        "name": "ipython",
        "version": 3
      },
      "file_extension": ".py",
      "mimetype": "text/x-python",
      "name": "python",
      "nbconvert_exporter": "python",
      "pygments_lexer": "ipython3",
      "version": "3.7.4"
    },
    "colab": {
      "name": "Assignment 2 - Python Function.ipynb",
      "provenance": []
    }
  },
  "cells": [
    {
      "cell_type": "markdown",
      "metadata": {
        "id": "8Jx26C9TW5_R",
        "colab_type": "text"
      },
      "source": [
        "## Problem Statement"
      ]
    },
    {
      "cell_type": "markdown",
      "metadata": {
        "id": "WU4qsZRfW5_W",
        "colab_type": "text"
      },
      "source": [
        "Q.1 Write a Python Program to implement your own myreduce() function which works exactly like\n",
        "Python's built-in function reduce()\n"
      ]
    },
    {
      "cell_type": "code",
      "metadata": {
        "id": "0nt_UQbFW5_a",
        "colab_type": "code",
        "colab": {
          "base_uri": "https://localhost:8080/",
          "height": 54
        },
        "outputId": "bae04968-157d-470f-cdb9-82bc210f311d"
      },
      "source": [
        "def my_reduce(func, seq):\n",
        "  first = seq[0]\n",
        "  for i in seq[1:]:\n",
        "    first = func(first, i)\n",
        "  return first\n",
        "\n",
        "def add(x, y):\n",
        "  return x + y\n",
        "\n",
        "def mul(x, y):\n",
        "  return x * y\n",
        "\n",
        "def biggest(x, y):\n",
        "  if x > y:\n",
        "    return x\n",
        "  else:\n",
        "    return y\n",
        "\n",
        "print(my_reduce(add, [1, 2, 3, 4]))\n",
        "print(my_reduce(lambda x, y: x if x > y else y, [1, 2, 3, 4]))"
      ],
      "execution_count": 1,
      "outputs": [
        {
          "output_type": "stream",
          "text": [
            "10\n",
            "4\n"
          ],
          "name": "stdout"
        }
      ]
    },
    {
      "cell_type": "markdown",
      "metadata": {
        "id": "eXeh50ekW5_l",
        "colab_type": "text"
      },
      "source": [
        "Q.2 Write a Python program to implement your own myfilter() function which works exactly like\n",
        "Python's built-in function filter()"
      ]
    },
    {
      "cell_type": "code",
      "metadata": {
        "id": "v9oXwmIhW5_o",
        "colab_type": "code",
        "colab": {
          "base_uri": "https://localhost:8080/",
          "height": 54
        },
        "outputId": "51107730-ae47-448b-e07d-baec1bcc416a"
      },
      "source": [
        "def my_filter(func, seq):\n",
        "  nl = []\n",
        "  for x in seq:\n",
        "    val = func(x) \n",
        "    if(val):\n",
        "      nl.append(x)\n",
        "  return nl\n",
        "\n",
        "def len_gt_2(x):\n",
        "  if len(x) > 2:\n",
        "    return True\n",
        "  else:\n",
        "    return Flase\n",
        "\n",
        "print(my_filter(len_gt_2, ['Hello', 'how', 'are', 'you', 'doing', 'Prospect']))\n",
        "print(my_filter(lambda x: x%10 == 0, [2,3,4,5,6,10]))"
      ],
      "execution_count": 2,
      "outputs": [
        {
          "output_type": "stream",
          "text": [
            "['Hello', 'how', 'are', 'you', 'doing', 'Prospect']\n",
            "[10]\n"
          ],
          "name": "stdout"
        }
      ]
    },
    {
      "cell_type": "markdown",
      "metadata": {
        "id": "k5msC40XW5_v",
        "colab_type": "text"
      },
      "source": [
        "Q.3 Implement List comprehensions to produce the following lists.\n",
        "   Write List comprehensions to produce the following Lists\n",
        "   \n",
        "    ['A', 'C', 'A', 'D', 'G', 'I', ’L’, ‘ D’]\n",
        "   \n",
        "    ['x', 'xx', 'xxx', 'xxxx', 'y', 'yy', 'yyy', 'yyyy', 'z', 'zz', 'zzz', 'zzzz']\n",
        "\n",
        "    ['x', 'y', 'z', 'xx', 'yy', 'zz', 'xx', 'yy', 'zz', 'xxxx', 'yyyy', 'zzzz']\n",
        "    \n",
        "    [[2], [3], [4], [3], [4], [5], [4], [5], [6]]\n",
        "\n",
        "    [[2, 3, 4, 5], [3, 4, 5, 6], [4, 5, 6, 7], [5, 6, 7, 8]]\n",
        "\n",
        "    [(1, 1), (2, 1), (3, 1), (1, 2), (2, 2), (3, 2), (1, 3), (2, 3), (3, 3)]"
      ]
    },
    {
      "cell_type": "code",
      "metadata": {
        "id": "ljNYS3XSW5_y",
        "colab_type": "code",
        "colab": {
          "base_uri": "https://localhost:8080/",
          "height": 127
        },
        "outputId": "d4087e3c-4bd2-4197-d15d-9be40d9cfe1f"
      },
      "source": [
        "print([i for i  in 'ACADGLID'])\n",
        "print([i*j for i in 'xyz' for j in range(1,5)])\n",
        "print([i*j for i in range(1,5) for j in 'xyz'])\n",
        "print([[i+j] for i in [1, 2, 3] for j in range(1,4)])\n",
        "print([[i+j for i in [1, 2, 3, 4]] for j in range(1,5)])\n",
        "print([(j, i) for i in [1, 2, 3] for j in range(1,4)])"
      ],
      "execution_count": 3,
      "outputs": [
        {
          "output_type": "stream",
          "text": [
            "['A', 'C', 'A', 'D', 'G', 'L', 'I', 'D']\n",
            "['x', 'xx', 'xxx', 'xxxx', 'y', 'yy', 'yyy', 'yyyy', 'z', 'zz', 'zzz', 'zzzz']\n",
            "['x', 'y', 'z', 'xx', 'yy', 'zz', 'xxx', 'yyy', 'zzz', 'xxxx', 'yyyy', 'zzzz']\n",
            "[[2], [3], [4], [3], [4], [5], [4], [5], [6]]\n",
            "[[2, 3, 4, 5], [3, 4, 5, 6], [4, 5, 6, 7], [5, 6, 7, 8]]\n",
            "[(1, 1), (2, 1), (3, 1), (1, 2), (2, 2), (3, 2), (1, 3), (2, 3), (3, 3)]\n"
          ],
          "name": "stdout"
        }
      ]
    },
    {
      "cell_type": "markdown",
      "metadata": {
        "id": "nJ8wt4nsW5_4",
        "colab_type": "text"
      },
      "source": [
        "Q.4 Implement a function longestWord() that takes a list of words and returns the longest one."
      ]
    },
    {
      "cell_type": "code",
      "metadata": {
        "id": "3EuOeLWIW5_7",
        "colab_type": "code",
        "colab": {
          "base_uri": "https://localhost:8080/",
          "height": 35
        },
        "outputId": "330b77aa-8fea-4b2a-f411-6e8223bb8b91"
      },
      "source": [
        "def my_reduce(func, seq):\n",
        "  first = seq[0]\n",
        "  for i in seq[1:]:\n",
        "    first = func(first, i)\n",
        "  return first\n",
        "\n",
        "def longestWord(seq):\n",
        "  return(my_reduce(lambda x, y: x if len(x) > len(y) else y, seq))\n",
        "\n",
        "longestWord(['Hello', 'how', 'are', 'you', 'doing', 'Prospect'])"
      ],
      "execution_count": 4,
      "outputs": [
        {
          "output_type": "execute_result",
          "data": {
            "text/plain": [
              "'Prospect'"
            ]
          },
          "metadata": {
            "tags": []
          },
          "execution_count": 4
        }
      ]
    },
    {
      "cell_type": "markdown",
      "metadata": {
        "id": "yGezi7AUW6AC",
        "colab_type": "text"
      },
      "source": [
        "Q.5 Write a Python Program(with class concepts) to find the area of the triangle using the below\n",
        "formula.\n",
        "\n",
        "area = (s*(s-a)*(s-b)*(s-c)) ** 0.5\n",
        "\n",
        "Function to take the length of the sides of triangle from user should be defined in the parent\n",
        "class and function to calculate the area should be defined in subclass."
      ]
    },
    {
      "cell_type": "code",
      "metadata": {
        "id": "2oys3H9JW6AD",
        "colab_type": "code",
        "colab": {
          "base_uri": "https://localhost:8080/",
          "height": 35
        },
        "outputId": "42c95e8d-5631-42ce-89b6-3f80244e5417"
      },
      "source": [
        "class Triangle:\n",
        "  def __init__(self, x, y, z):\n",
        "    self.a = x\n",
        "    self.b = y\n",
        "    self.c = z\n",
        "\n",
        "class AreaOfTriangle(Triangle):\n",
        "  def __init__(self, x, y, z):\n",
        "    super().__init__(x, y, z)\n",
        "  \n",
        "  def CalculateArea(self):   \n",
        "    s = (self.a + self.b + self.c) / 2\n",
        "    a = (s*(s-self.a)*(s-self.b)*(s-self.c))*0.5\n",
        "    return a \n",
        "\n",
        "t = AreaOfTriangle(1, 1, 1)\n",
        "print(t.CalculateArea())"
      ],
      "execution_count": 5,
      "outputs": [
        {
          "output_type": "stream",
          "text": [
            "0.09375\n"
          ],
          "name": "stdout"
        }
      ]
    },
    {
      "cell_type": "markdown",
      "metadata": {
        "id": "SA-YWGtLW6AI",
        "colab_type": "text"
      },
      "source": [
        "Q.6 Write a function filter_long_words() that takes a list of words and an integer n and returns the list\n",
        "of words that are longer than n."
      ]
    },
    {
      "cell_type": "code",
      "metadata": {
        "id": "tQ5XTOw6W6AJ",
        "colab_type": "code",
        "colab": {
          "base_uri": "https://localhost:8080/",
          "height": 35
        },
        "outputId": "4984fbd6-b647-4061-bcea-ca3dbf9d1a51"
      },
      "source": [
        "def filter_long_words(seq, n):\n",
        "  return list(filter(lambda x : len(x) > n, seq))\n",
        "\n",
        "filter_long_words(['Hello', 'how', 'are', 'you', 'doing', 'Prospect'], 4)"
      ],
      "execution_count": 6,
      "outputs": [
        {
          "output_type": "execute_result",
          "data": {
            "text/plain": [
              "['Hello', 'doing', 'Prospect']"
            ]
          },
          "metadata": {
            "tags": []
          },
          "execution_count": 6
        }
      ]
    },
    {
      "cell_type": "markdown",
      "metadata": {
        "id": "Vo71hy4uW6AP",
        "colab_type": "text"
      },
      "source": [
        "Q.7 Write a Python program using function concept that maps list of words into a list of integers\n",
        "representing the lengths of the corresponding words.\n",
        "    \n",
        "    Hint: If a list [ ab,cde,erty] is passed on to the python function output should come as [2,3,4]\n",
        "    Here 2,3 and 4 are the lengths of the words in the list."
      ]
    },
    {
      "cell_type": "code",
      "metadata": {
        "id": "IjlU_mstW6AR",
        "colab_type": "code",
        "colab": {
          "base_uri": "https://localhost:8080/",
          "height": 35
        },
        "outputId": "d482df51-6f58-482f-e32b-720655d3aaac"
      },
      "source": [
        "def len_of_words(seq):\n",
        "  return [len(x) for x in seq]\n",
        "\n",
        "print(len_of_words(['Hello', 'how', 'are', 'you', 'doing', 'Prospect']))"
      ],
      "execution_count": 7,
      "outputs": [
        {
          "output_type": "stream",
          "text": [
            "[5, 3, 3, 3, 5, 8]\n"
          ],
          "name": "stdout"
        }
      ]
    },
    {
      "cell_type": "markdown",
      "metadata": {
        "id": "_6sfiYdiW6AW",
        "colab_type": "text"
      },
      "source": [
        "Q.8 Write a Python function which takes a character (i.e. a string of length 1) and returns True if it is\n",
        "a vowel, False otherwise."
      ]
    },
    {
      "cell_type": "code",
      "metadata": {
        "id": "rDxrylXpW6AY",
        "colab_type": "code",
        "colab": {
          "base_uri": "https://localhost:8080/",
          "height": 35
        },
        "outputId": "eb5e9853-a71c-45b0-a9e2-4e88b50939b1"
      },
      "source": [
        "def is_Vowel(char):\n",
        "  Vowels = ['a', 'e', 'i', 'o', 'u']\n",
        "  if(char.lower() in Vowels):\n",
        "    return True\n",
        "  else:\n",
        "    return False\n",
        "  \n",
        "print(is_Vowel('e'))"
      ],
      "execution_count": 8,
      "outputs": [
        {
          "output_type": "stream",
          "text": [
            "True\n"
          ],
          "name": "stdout"
        }
      ]
    },
    {
      "cell_type": "markdown",
      "metadata": {
        "id": "r5Tmyh-AW6Ac",
        "colab_type": "text"
      },
      "source": [
        "## Great job!"
      ]
    }
  ]
}