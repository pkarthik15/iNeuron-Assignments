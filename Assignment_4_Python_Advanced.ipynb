{
  "nbformat": 4,
  "nbformat_minor": 0,
  "metadata": {
    "kernelspec": {
      "display_name": "Python 3",
      "language": "python",
      "name": "python3"
    },
    "language_info": {
      "codemirror_mode": {
        "name": "ipython",
        "version": 3
      },
      "file_extension": ".py",
      "mimetype": "text/x-python",
      "name": "python",
      "nbconvert_exporter": "python",
      "pygments_lexer": "ipython3",
      "version": "3.7.4"
    },
    "colab": {
      "name": "Assignment 4 - Python Advanced.ipynb",
      "provenance": []
    }
  },
  "cells": [
    {
      "cell_type": "markdown",
      "metadata": {
        "id": "t6hlR98En6k_",
        "colab_type": "text"
      },
      "source": [
        "# Assignment 4 Questions"
      ]
    },
    {
      "cell_type": "markdown",
      "metadata": {
        "id": "NDls0FY6n6lE",
        "colab_type": "text"
      },
      "source": [
        "## Problem Statement"
      ]
    },
    {
      "cell_type": "markdown",
      "metadata": {
        "id": "BIem6QxQn6lI",
        "colab_type": "text"
      },
      "source": [
        "Q.1 Given a sequence of n values x1, x2, ..., xn and a window size k>0, the k-th moving average of\n",
        "the given sequence is defined as follows:\n",
        "\n",
        "The moving average sequence has n-k+1 elements as shown below.\n",
        "The moving averages with k=4 of a ten-value sequence (n=10) is shown below\n",
        "\n",
        "    i 1 2 3 4 5 6 7 8 9 10\n",
        "    ===== == == == == == == == == == ==\n",
        "    Input 10 20 30 40 50 60 70 80 90 100\n",
        "    y1 25 = (10+20+30+40)/4\n",
        "    y2 35 = (20+30+40+50)/4\n",
        "    y3 45 = (30+40+50+60)/4\n",
        "    y4 55 = (40+50+60+70)/4\n",
        "    y5 65 = (50+60+70+80)/4\n",
        "    y6 75 = (60+70+80+90)/4\n",
        "    y7 85 = (70+80+90+100)/4\n",
        "\n",
        "Thus, the moving average sequence has n-k+1=10-4+1=7 values.\n",
        "\n",
        "Write a function to find moving average in an array over a window:\n",
        "\n",
        "Test it over [3, 5, 7, 2, 8, 10, 11, 65, 72, 81, 99, 100, 150] and window of 3."
      ]
    },
    {
      "cell_type": "code",
      "metadata": {
        "id": "-W0Knn8Xn6lM",
        "colab_type": "code",
        "outputId": "4e2ba0e0-e25c-4132-b593-ff58a118d08e",
        "colab": {
          "base_uri": "https://localhost:8080/",
          "height": 50
        }
      },
      "source": [
        "import numpy as np\n",
        "def moving_average(a, n):\n",
        "  asum = np.cumsum(a, dtype=float)\n",
        "  asum[n:] = asum[n:] - asum[:-n]\n",
        "  return asum[n - 1:] / n\n",
        "\n",
        "a = [3, 5, 7, 2, 8, 10, 11, 65, 72, 81, 99, 100, 150]\n",
        "n = 3\n",
        "np.array(moving_average(a, n)).round(2)"
      ],
      "execution_count": 1,
      "outputs": [
        {
          "output_type": "execute_result",
          "data": {
            "text/plain": [
              "array([  5.  ,   4.67,   5.67,   6.67,   9.67,  28.67,  49.33,  72.67,\n",
              "        84.  ,  93.33, 116.33])"
            ]
          },
          "metadata": {
            "tags": []
          },
          "execution_count": 1
        }
      ]
    },
    {
      "cell_type": "markdown",
      "metadata": {
        "id": "65r50Z_3n6lc",
        "colab_type": "text"
      },
      "source": [
        "Q.2 How-to-count-distance-to-the-previous-zero\n",
        "For each value, count the difference back to the previous zero (or the start of the Series,\n",
        "whichever is closer)\n",
        "create a new column 'Y'\n",
        "Consider a DataFrame df where there is an integer column 'X'\n",
        "    \n",
        "    import pandas as pd\n",
        "    df = pd.DataFrame({'X': [7, 2, 0, 3, 4, 2, 5, 0, 3, 4]})"
      ]
    },
    {
      "cell_type": "code",
      "metadata": {
        "id": "d537INTqn6lh",
        "colab_type": "code",
        "colab": {
          "base_uri": "https://localhost:8080/",
          "height": 343
        },
        "outputId": "96bb6d29-0b58-4b7d-f08c-eff61ec54e9b"
      },
      "source": [
        "import numpy as np\n",
        "import pandas as pd\n",
        "df = pd.DataFrame({'X': [7, 2, 0, 3, 4, 2, 5, 0, 3, 4]})\n",
        "s = df['X']\n",
        "x = (s != 0).cumsum()\n",
        "y = x != x.shift()\n",
        "df['Y'] = y.groupby((y != y.shift()).cumsum()).cumsum()\n",
        "df"
      ],
      "execution_count": 7,
      "outputs": [
        {
          "output_type": "execute_result",
          "data": {
            "text/html": [
              "<div>\n",
              "<style scoped>\n",
              "    .dataframe tbody tr th:only-of-type {\n",
              "        vertical-align: middle;\n",
              "    }\n",
              "\n",
              "    .dataframe tbody tr th {\n",
              "        vertical-align: top;\n",
              "    }\n",
              "\n",
              "    .dataframe thead th {\n",
              "        text-align: right;\n",
              "    }\n",
              "</style>\n",
              "<table border=\"1\" class=\"dataframe\">\n",
              "  <thead>\n",
              "    <tr style=\"text-align: right;\">\n",
              "      <th></th>\n",
              "      <th>X</th>\n",
              "      <th>Y</th>\n",
              "    </tr>\n",
              "  </thead>\n",
              "  <tbody>\n",
              "    <tr>\n",
              "      <th>0</th>\n",
              "      <td>7</td>\n",
              "      <td>1.0</td>\n",
              "    </tr>\n",
              "    <tr>\n",
              "      <th>1</th>\n",
              "      <td>2</td>\n",
              "      <td>2.0</td>\n",
              "    </tr>\n",
              "    <tr>\n",
              "      <th>2</th>\n",
              "      <td>0</td>\n",
              "      <td>0.0</td>\n",
              "    </tr>\n",
              "    <tr>\n",
              "      <th>3</th>\n",
              "      <td>3</td>\n",
              "      <td>1.0</td>\n",
              "    </tr>\n",
              "    <tr>\n",
              "      <th>4</th>\n",
              "      <td>4</td>\n",
              "      <td>2.0</td>\n",
              "    </tr>\n",
              "    <tr>\n",
              "      <th>5</th>\n",
              "      <td>2</td>\n",
              "      <td>3.0</td>\n",
              "    </tr>\n",
              "    <tr>\n",
              "      <th>6</th>\n",
              "      <td>5</td>\n",
              "      <td>4.0</td>\n",
              "    </tr>\n",
              "    <tr>\n",
              "      <th>7</th>\n",
              "      <td>0</td>\n",
              "      <td>0.0</td>\n",
              "    </tr>\n",
              "    <tr>\n",
              "      <th>8</th>\n",
              "      <td>3</td>\n",
              "      <td>1.0</td>\n",
              "    </tr>\n",
              "    <tr>\n",
              "      <th>9</th>\n",
              "      <td>4</td>\n",
              "      <td>2.0</td>\n",
              "    </tr>\n",
              "  </tbody>\n",
              "</table>\n",
              "</div>"
            ],
            "text/plain": [
              "   X    Y\n",
              "0  7  1.0\n",
              "1  2  2.0\n",
              "2  0  0.0\n",
              "3  3  1.0\n",
              "4  4  2.0\n",
              "5  2  3.0\n",
              "6  5  4.0\n",
              "7  0  0.0\n",
              "8  3  1.0\n",
              "9  4  2.0"
            ]
          },
          "metadata": {
            "tags": []
          },
          "execution_count": 7
        }
      ]
    },
    {
      "cell_type": "markdown",
      "metadata": {
        "id": "7OgSsfhQn6lm",
        "colab_type": "text"
      },
      "source": [
        "Q.3 Create a DatetimeIndex that contains each business day of 2015 and use it to index a Series of\n",
        "random numbers."
      ]
    },
    {
      "cell_type": "code",
      "metadata": {
        "id": "HPBVTlPjn6lo",
        "colab_type": "code",
        "colab": {
          "base_uri": "https://localhost:8080/",
          "height": 402
        },
        "outputId": "b5b89650-ce66-48ce-8e97-9f0e122d0975"
      },
      "source": [
        "import numpy as np\n",
        "import pandas as pd\n",
        "dates = pd.date_range('1/1/2015', freq='B', periods=261)\n",
        "df = pd.DataFrame(np.random.randn(261,1), index=dates)\n",
        "df"
      ],
      "execution_count": 10,
      "outputs": [
        {
          "output_type": "execute_result",
          "data": {
            "text/html": [
              "<div>\n",
              "<style scoped>\n",
              "    .dataframe tbody tr th:only-of-type {\n",
              "        vertical-align: middle;\n",
              "    }\n",
              "\n",
              "    .dataframe tbody tr th {\n",
              "        vertical-align: top;\n",
              "    }\n",
              "\n",
              "    .dataframe thead th {\n",
              "        text-align: right;\n",
              "    }\n",
              "</style>\n",
              "<table border=\"1\" class=\"dataframe\">\n",
              "  <thead>\n",
              "    <tr style=\"text-align: right;\">\n",
              "      <th></th>\n",
              "      <th>0</th>\n",
              "    </tr>\n",
              "  </thead>\n",
              "  <tbody>\n",
              "    <tr>\n",
              "      <th>2015-01-01</th>\n",
              "      <td>-0.734095</td>\n",
              "    </tr>\n",
              "    <tr>\n",
              "      <th>2015-01-02</th>\n",
              "      <td>-0.339445</td>\n",
              "    </tr>\n",
              "    <tr>\n",
              "      <th>2015-01-05</th>\n",
              "      <td>-1.168645</td>\n",
              "    </tr>\n",
              "    <tr>\n",
              "      <th>2015-01-06</th>\n",
              "      <td>0.639234</td>\n",
              "    </tr>\n",
              "    <tr>\n",
              "      <th>2015-01-07</th>\n",
              "      <td>2.355354</td>\n",
              "    </tr>\n",
              "    <tr>\n",
              "      <th>...</th>\n",
              "      <td>...</td>\n",
              "    </tr>\n",
              "    <tr>\n",
              "      <th>2015-12-25</th>\n",
              "      <td>-0.679035</td>\n",
              "    </tr>\n",
              "    <tr>\n",
              "      <th>2015-12-28</th>\n",
              "      <td>-2.069455</td>\n",
              "    </tr>\n",
              "    <tr>\n",
              "      <th>2015-12-29</th>\n",
              "      <td>0.593335</td>\n",
              "    </tr>\n",
              "    <tr>\n",
              "      <th>2015-12-30</th>\n",
              "      <td>-2.158611</td>\n",
              "    </tr>\n",
              "    <tr>\n",
              "      <th>2015-12-31</th>\n",
              "      <td>1.600106</td>\n",
              "    </tr>\n",
              "  </tbody>\n",
              "</table>\n",
              "<p>261 rows × 1 columns</p>\n",
              "</div>"
            ],
            "text/plain": [
              "                   0\n",
              "2015-01-01 -0.734095\n",
              "2015-01-02 -0.339445\n",
              "2015-01-05 -1.168645\n",
              "2015-01-06  0.639234\n",
              "2015-01-07  2.355354\n",
              "...              ...\n",
              "2015-12-25 -0.679035\n",
              "2015-12-28 -2.069455\n",
              "2015-12-29  0.593335\n",
              "2015-12-30 -2.158611\n",
              "2015-12-31  1.600106\n",
              "\n",
              "[261 rows x 1 columns]"
            ]
          },
          "metadata": {
            "tags": []
          },
          "execution_count": 10
        }
      ]
    },
    {
      "cell_type": "markdown",
      "metadata": {
        "id": "_jQpCoR_n6lw",
        "colab_type": "text"
      },
      "source": [
        "Q.4 "
      ]
    }
  ]
}