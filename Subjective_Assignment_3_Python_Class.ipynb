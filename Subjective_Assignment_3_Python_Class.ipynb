{
  "nbformat": 4,
  "nbformat_minor": 0,
  "metadata": {
    "kernelspec": {
      "display_name": "Python 3",
      "language": "python",
      "name": "python3"
    },
    "language_info": {
      "codemirror_mode": {
        "name": "ipython",
        "version": 3
      },
      "file_extension": ".py",
      "mimetype": "text/x-python",
      "name": "python",
      "nbconvert_exporter": "python",
      "pygments_lexer": "ipython3",
      "version": "3.7.4"
    },
    "colab": {
      "name": "Subjective Assignment - 3 - Python Class.ipynb",
      "provenance": []
    }
  },
  "cells": [
    {
      "cell_type": "markdown",
      "metadata": {
        "id": "FgST77EtqgHs",
        "colab_type": "text"
      },
      "source": [
        "# Assignment"
      ]
    },
    {
      "cell_type": "markdown",
      "metadata": {
        "id": "0SQYVaHNqgHv",
        "colab_type": "text"
      },
      "source": [
        "Q1. Write the Python class to convert an integer to a roman numeral?"
      ]
    },
    {
      "cell_type": "code",
      "metadata": {
        "id": "ktMlKZpQqgHz",
        "colab_type": "code",
        "colab": {
          "base_uri": "https://localhost:8080/",
          "height": 50
        },
        "outputId": "902e3a6c-ac15-488b-f28d-959f188b5a10"
      },
      "source": [
        "class RomanNumeral:\n",
        "    def int_to_Roman(self, num):\n",
        "        val = [\n",
        "            1000, 900, 500, 400,\n",
        "            100, 90, 50, 40,\n",
        "            10, 9, 5, 4,\n",
        "            1\n",
        "            ]\n",
        "        syb = [\n",
        "            \"M\", \"CM\", \"D\", \"CD\",\n",
        "            \"C\", \"XC\", \"L\", \"XL\",\n",
        "            \"X\", \"IX\", \"V\", \"IV\",\n",
        "            \"I\"\n",
        "            ]\n",
        "        roman_num = ''\n",
        "        i = 0\n",
        "        while  num > 0:\n",
        "            for _ in range(num // val[i]):\n",
        "                roman_num += syb[i]\n",
        "                num -= val[i]\n",
        "            i += 1\n",
        "        return roman_num\n",
        "\n",
        "\n",
        "print(RomanNumeral().int_to_Roman(1))\n",
        "print(RomanNumeral().int_to_Roman(4000))"
      ],
      "execution_count": 1,
      "outputs": [
        {
          "output_type": "stream",
          "text": [
            "I\n",
            "MMMM\n"
          ],
          "name": "stdout"
        }
      ]
    },
    {
      "cell_type": "markdown",
      "metadata": {
        "id": "leD31x0dqgH8",
        "colab_type": "text"
      },
      "source": [
        "Q2 Write the Python class to convert a Roman numeral to an integer?\n"
      ]
    },
    {
      "cell_type": "code",
      "metadata": {
        "id": "JsIJvfhEqgH-",
        "colab_type": "code",
        "colab": {
          "base_uri": "https://localhost:8080/",
          "height": 67
        },
        "outputId": "3a7c9790-c5cd-41bc-b634-81d8706c0217"
      },
      "source": [
        "class NUMERALROMAN:\n",
        "    def roman_to_int(self, s):\n",
        "        rom_val = {'I': 1, 'V': 5, 'X': 10, 'L': 50, 'C': 100, 'D': 500, 'M': 1000}\n",
        "        int_val = 0\n",
        "        for i in range(len(s)):\n",
        "            if i > 0 and rom_val[s[i]] > rom_val[s[i - 1]]:\n",
        "                int_val += rom_val[s[i]] - 2 * rom_val[s[i - 1]]\n",
        "            else:\n",
        "                int_val += rom_val[s[i]]\n",
        "        return int_val\n",
        "\n",
        "print(NUMERALROMAN().roman_to_int('MMMCMLXXXVI'))\n",
        "print(NUMERALROMAN().roman_to_int('MMMM'))\n",
        "print(NUMERALROMAN().roman_to_int('C'))"
      ],
      "execution_count": 2,
      "outputs": [
        {
          "output_type": "stream",
          "text": [
            "3986\n",
            "4000\n",
            "100\n"
          ],
          "name": "stdout"
        }
      ]
    },
    {
      "cell_type": "markdown",
      "metadata": {
        "id": "jBvvLK9CqgIG",
        "colab_type": "text"
      },
      "source": [
        "Q3. Write the Python class to find the validity of the string of the\n",
        "parentheses, '(', ')', '{', '}', '[' and '] and the brackets must be closed\n",
        "in the correct order, example - \"()\" and \"()[]{}\" are valid but \"[)\",\n",
        "\"({[)]\" and \"{{{\" are invalid.\n"
      ]
    },
    {
      "cell_type": "code",
      "metadata": {
        "id": "xIm8FfPdqgII",
        "colab_type": "code",
        "colab": {
          "base_uri": "https://localhost:8080/",
          "height": 67
        },
        "outputId": "5fa62f39-1b0f-4c11-dd76-d16c564c79d7"
      },
      "source": [
        "class ValidateParanthesis:\n",
        "   def is_valid_parenthese(self, str1):\n",
        "        stack, pchar = [], {\"(\": \")\", \"{\": \"}\", \"[\": \"]\"}\n",
        "        for parenthese in str1:\n",
        "            if parenthese in pchar:\n",
        "                stack.append(parenthese)\n",
        "            elif len(stack) == 0 or pchar[stack.pop()] != parenthese:\n",
        "                return False\n",
        "        return len(stack) == 0\n",
        "\n",
        "print(ValidateParanthesis().is_valid_parenthese(\"(){}[]\"))\n",
        "print(ValidateParanthesis().is_valid_parenthese(\"()[{)}\"))\n",
        "print(ValidateParanthesis().is_valid_parenthese(\"()\"))\n"
      ],
      "execution_count": 3,
      "outputs": [
        {
          "output_type": "stream",
          "text": [
            "True\n",
            "False\n",
            "True\n"
          ],
          "name": "stdout"
        }
      ]
    },
    {
      "cell_type": "markdown",
      "metadata": {
        "id": "YYhpqQASqgIO",
        "colab_type": "text"
      },
      "source": [
        "Q4. Write the Python class to get all possible unique subsets from a set\n",
        "of distinct integers?\n",
        "\n",
        "    Input - [4, 5, 6]\n",
        "    Output - [[], [6], [5], [5, 6], [4], [4, 6], [4, 5], [4, 5, 6]]"
      ]
    },
    {
      "cell_type": "code",
      "metadata": {
        "id": "YY-TgU4cqgIQ",
        "colab_type": "code",
        "colab": {
          "base_uri": "https://localhost:8080/",
          "height": 34
        },
        "outputId": "4a1a1b44-e01e-42e0-b90d-d0fa3cf672f0"
      },
      "source": [
        "class LISTSUBSET:\n",
        "    def sub_sets(self, sset):\n",
        "        return self.subsetsRecur([], sorted(sset))\n",
        "    \n",
        "    def subsetsRecur(self, current, sset):\n",
        "        if sset:\n",
        "            return self.subsetsRecur(current, sset[1:]) + self.subsetsRecur(current + [sset[0]], sset[1:])\n",
        "        return [current]\n",
        "\n",
        "print(LISTSUBSET().sub_sets([4,5,6]))"
      ],
      "execution_count": 4,
      "outputs": [
        {
          "output_type": "stream",
          "text": [
            "[[], [6], [5], [5, 6], [4], [4, 6], [4, 5], [4, 5, 6]]\n"
          ],
          "name": "stdout"
        }
      ]
    },
    {
      "cell_type": "markdown",
      "metadata": {
        "id": "17MIscScqgIW",
        "colab_type": "text"
      },
      "source": [
        "Q5. Write the Python class to find a pair of elements (indices of the two\n",
        "numbers) from a given array whose sum equals the specific target\n",
        "number?\n",
        "\n",
        "    Input: numbers- [10,20,10,40,50,60,70], target=50\n",
        "    Output- 3, 4"
      ]
    },
    {
      "cell_type": "code",
      "metadata": {
        "id": "ZNhInRJ3qgIY",
        "colab_type": "code",
        "colab": {
          "base_uri": "https://localhost:8080/",
          "height": 34
        },
        "outputId": "e87cc5f1-c9fb-4d9a-f9dd-8c8395b7e58d"
      },
      "source": [
        "class PariElements:\n",
        "   def twoSum(self, nums, target):\n",
        "        lookup = {}\n",
        "        for i, num in enumerate(nums):\n",
        "            if target - num in lookup:\n",
        "                return (lookup[target - num], i )\n",
        "            lookup[num] = i\n",
        "print(\"index1=%d, index2=%d\" % PariElements().twoSum((10,20,10,40,50,60,70),50))"
      ],
      "execution_count": 5,
      "outputs": [
        {
          "output_type": "stream",
          "text": [
            "index1=2, index2=3\n"
          ],
          "name": "stdout"
        }
      ]
    },
    {
      "cell_type": "markdown",
      "metadata": {
        "id": "b8Vah0RMqgId",
        "colab_type": "text"
      },
      "source": [
        "Q6. Write the Python class to find the three elements that sum to zero\n",
        "from the set of n real numbers?\n",
        "\n",
        "    Input array- [-25, -10, -7, -3, 2, 4, 8, 10]\n",
        "    Output - [[-10, 2, 8], [-7, -3, 10]]\n"
      ]
    },
    {
      "cell_type": "code",
      "metadata": {
        "id": "gf1poC0FqgIe",
        "colab_type": "code",
        "colab": {
          "base_uri": "https://localhost:8080/",
          "height": 34
        },
        "outputId": "2dcb3763-04b9-4c86-8b3c-be2d03ac9fef"
      },
      "source": [
        "class Elements:\n",
        " def threeSum(self, nums):\n",
        "        nums, result, i = sorted(nums), [], 0\n",
        "        while i < len(nums) - 2:\n",
        "            j, k = i + 1, len(nums) - 1\n",
        "            while j < k:\n",
        "                if nums[i] + nums[j] + nums[k] < 0:\n",
        "                    j += 1\n",
        "                elif nums[i] + nums[j] + nums[k] > 0:\n",
        "                    k -= 1\n",
        "                else:\n",
        "                    result.append([nums[i], nums[j], nums[k]])\n",
        "                    j, k = j + 1, k - 1\n",
        "                    while j < k and nums[j] == nums[j - 1]:\n",
        "                        j += 1\n",
        "                    while j < k and nums[k] == nums[k + 1]:\n",
        "                        k -= 1\n",
        "            i += 1\n",
        "            while i < len(nums) - 2 and nums[i] == nums[i - 1]:\n",
        "                i += 1\n",
        "        return result\n",
        "\n",
        "print(Elements().threeSum([-25, -10, -7, -3, 2, 4, 8, 10]))"
      ],
      "execution_count": 7,
      "outputs": [
        {
          "output_type": "stream",
          "text": [
            "[[-10, 2, 8], [-7, -3, 10]]\n"
          ],
          "name": "stdout"
        }
      ]
    },
    {
      "cell_type": "markdown",
      "metadata": {
        "id": "aNHl5Y40qgIk",
        "colab_type": "text"
      },
      "source": [
        "Q7. Write the Python class to implement pow(x, n)?"
      ]
    },
    {
      "cell_type": "code",
      "metadata": {
        "id": "48TmR9vJqgIl",
        "colab_type": "code",
        "outputId": "ae5e066b-1097-48ad-d014-0e83f0037695",
        "colab": {
          "base_uri": "https://localhost:8080/",
          "height": 34
        }
      },
      "source": [
        "class Power():\n",
        "  def pow(self, x, n):\n",
        "    return x ** n\n",
        "\n",
        "p = Power()\n",
        "print(p.pow(5 ,5))\n"
      ],
      "execution_count": 8,
      "outputs": [
        {
          "output_type": "stream",
          "text": [
            "3125\n"
          ],
          "name": "stdout"
        }
      ]
    },
    {
      "cell_type": "markdown",
      "metadata": {
        "id": "mmRfznQjqgIq",
        "colab_type": "text"
      },
      "source": [
        "Q8. Write the Python class which has two methods get_String and\n",
        "print_String. get_String accept the string from the user and \n",
        "print_String print the string in upper case."
      ]
    },
    {
      "cell_type": "code",
      "metadata": {
        "id": "x1ObGxZpqgIs",
        "colab_type": "code",
        "outputId": "11aa2c34-411c-4721-c909-09a38e16365a",
        "colab": {
          "base_uri": "https://localhost:8080/",
          "height": 34
        }
      },
      "source": [
        "class StringOps():\n",
        "  def get_String(self, name):\n",
        "    self.name = name\n",
        "  def print_String(self):\n",
        "    print(self.name.upper())\n",
        "\n",
        "s = StringOps()\n",
        "s.get_String(\"karthik\")\n",
        "s.print_String()"
      ],
      "execution_count": 9,
      "outputs": [
        {
          "output_type": "stream",
          "text": [
            "KARTHIK\n"
          ],
          "name": "stdout"
        }
      ]
    },
    {
      "cell_type": "markdown",
      "metadata": {
        "id": "EW7HFaTSqgIw",
        "colab_type": "text"
      },
      "source": [
        "Q9. Write the Python class named Rectangle constructed by a length\n",
        "and width and the method which will compute the area of the\n",
        "rectangle?"
      ]
    },
    {
      "cell_type": "code",
      "metadata": {
        "id": "K5CsFhsdqgIz",
        "colab_type": "code",
        "outputId": "f03ab474-3522-4677-9d12-52bbc696d9e1",
        "colab": {
          "base_uri": "https://localhost:8080/",
          "height": 34
        }
      },
      "source": [
        "class Rectangle():\n",
        "  def __init__(self, length, width):\n",
        "    self.length = length\n",
        "    self.width = width\n",
        "  \n",
        "  def calculate_area(self):\n",
        "    return self.length * self.width\n",
        "\n",
        "r = Rectangle(10, 20)\n",
        "print(r.calculate_area())\n"
      ],
      "execution_count": 10,
      "outputs": [
        {
          "output_type": "stream",
          "text": [
            "200\n"
          ],
          "name": "stdout"
        }
      ]
    },
    {
      "cell_type": "markdown",
      "metadata": {
        "id": "hmJfdxwjqgI4",
        "colab_type": "text"
      },
      "source": [
        "Q10. Write the Python class named Circle constructed by the radius\n",
        "and two methods which will compute the area and perimeter of\n",
        "the circle?"
      ]
    },
    {
      "cell_type": "code",
      "metadata": {
        "id": "JR3eIRxZqgI6",
        "colab_type": "code",
        "outputId": "990b8f07-09ed-4551-e74d-677cac446b21",
        "colab": {
          "base_uri": "https://localhost:8080/",
          "height": 50
        }
      },
      "source": [
        "class Circle():\n",
        "  def __init__(self, radius):\n",
        "    self.radius = radius\n",
        "  \n",
        "  def area(self):\n",
        "    return 3.14 * (self.radius ** 2)\n",
        "  \n",
        "  def perimeter(self):\n",
        "    return 2 * 3.14 * self.radius\n",
        "\n",
        "\n",
        "c = Circle(5)\n",
        "print(c.area())\n",
        "print(c.perimeter())"
      ],
      "execution_count": 11,
      "outputs": [
        {
          "output_type": "stream",
          "text": [
            "78.5\n",
            "31.400000000000002\n"
          ],
          "name": "stdout"
        }
      ]
    },
    {
      "cell_type": "markdown",
      "metadata": {
        "id": "2xQyg5bSqgI_",
        "colab_type": "text"
      },
      "source": [
        "Q11. Write the Python program to get the class name of an instance in\n",
        "Python?"
      ]
    },
    {
      "cell_type": "code",
      "metadata": {
        "id": "1axgVVv1qgJA",
        "colab_type": "code",
        "colab": {
          "base_uri": "https://localhost:8080/",
          "height": 34
        },
        "outputId": "8e5fa9b5-3909-43fa-f21c-5f5e3c6b7ee5"
      },
      "source": [
        "import itertools\n",
        "x = itertools.cycle('ABCD')\n",
        "print(type(x).__name__)"
      ],
      "execution_count": 12,
      "outputs": [
        {
          "output_type": "stream",
          "text": [
            "cycle\n"
          ],
          "name": "stdout"
        }
      ]
    },
    {
      "cell_type": "markdown",
      "metadata": {
        "id": "UnQ27xKOqgJE",
        "colab_type": "text"
      },
      "source": [
        "Q12. Write the Python program to count the number of students of\n",
        "individual class?\n",
        "\n",
        "    Sample dataclasses = (\n",
        "    ('V', 1),\n",
        "    ('VI', 1),\n",
        "    ('V', 2),\n",
        "    ('VI', 2),\n",
        "    ('VI', 3),\n",
        "    ('VII', 1),\n",
        "    )\n",
        "    Expected OutputCounter({'VI': 3, 'V': 2, 'VII': 1})"
      ]
    },
    {
      "cell_type": "code",
      "metadata": {
        "id": "Nowe184XqgJH",
        "colab_type": "code",
        "colab": {
          "base_uri": "https://localhost:8080/",
          "height": 34
        },
        "outputId": "7466e54d-55fc-4c78-dc00-07c80f425aa0"
      },
      "source": [
        "from collections import Counter\n",
        "classes = (\n",
        "    ('V', 1),\n",
        "    ('VI', 1),\n",
        "    ('V', 2),\n",
        "    ('VI', 2),\n",
        "    ('VI', 3),\n",
        "    ('VII', 1),\n",
        ")\n",
        "students = Counter(class_name for class_name, no_students in classes)\n",
        "print(students)"
      ],
      "execution_count": 13,
      "outputs": [
        {
          "output_type": "stream",
          "text": [
            "Counter({'VI': 3, 'V': 2, 'VII': 1})\n"
          ],
          "name": "stdout"
        }
      ]
    },
    {
      "cell_type": "markdown",
      "metadata": {
        "id": "BLwNGzWqqgJK",
        "colab_type": "text"
      },
      "source": [
        "## Great Job!"
      ]
    }
  ]
}