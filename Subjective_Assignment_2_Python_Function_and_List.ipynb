{
  "nbformat": 4,
  "nbformat_minor": 0,
  "metadata": {
    "kernelspec": {
      "display_name": "Python 3",
      "language": "python",
      "name": "python3"
    },
    "language_info": {
      "codemirror_mode": {
        "name": "ipython",
        "version": 3
      },
      "file_extension": ".py",
      "mimetype": "text/x-python",
      "name": "python",
      "nbconvert_exporter": "python",
      "pygments_lexer": "ipython3",
      "version": "3.7.4"
    },
    "colab": {
      "name": "Subjective Assignment - 2 - Python Function and List.ipynb",
      "provenance": []
    }
  },
  "cells": [
    {
      "cell_type": "markdown",
      "metadata": {
        "id": "UrFMVAxsTSfJ",
        "colab_type": "text"
      },
      "source": [
        "# Assignments"
      ]
    },
    {
      "cell_type": "markdown",
      "metadata": {
        "id": "zUFyNNlMTSfL",
        "colab_type": "text"
      },
      "source": [
        "Q1. Write the Python function to get a string made of 4 copies of the last\n",
        "two characters of the specified string (length must be at least 2).\n",
        "\n",
        "    Sample function and result :\n",
        "    insert-end ('Python') -> abababab\n",
        "    insert-end('Exercises') -> jkjkjkjk"
      ]
    },
    {
      "cell_type": "code",
      "metadata": {
        "id": "T8uobWGwTSfM",
        "colab_type": "code",
        "colab": {
          "base_uri": "https://localhost:8080/",
          "height": 50
        },
        "outputId": "05ff6171-d106-48ab-8175-41440eab0ac3"
      },
      "source": [
        "def insert_end(str):\n",
        "\tsub_str = str[-2:]\n",
        "\treturn sub_str * 4\n",
        "\n",
        "print(insert_end('Python'))\n",
        "print(insert_end('Exercises'))"
      ],
      "execution_count": 1,
      "outputs": [
        {
          "output_type": "stream",
          "text": [
            "onononon\n",
            "eseseses\n"
          ],
          "name": "stdout"
        }
      ]
    },
    {
      "cell_type": "markdown",
      "metadata": {
        "id": "FbQ4VvLFTSfW",
        "colab_type": "text"
      },
      "source": [
        "Q2. Write the python function to get a string made of its first three\n",
        "characters of a specified string. If the length of the string is less than 3\n",
        "then return the original string.\n",
        "    \n",
        "    Sample function and result :\n",
        "    first-three('ipy') -> ipy\n",
        "    first-three('python') -> pyt"
      ]
    },
    {
      "cell_type": "code",
      "metadata": {
        "id": "fkZLCNb_TSfX",
        "colab_type": "code",
        "colab": {
          "base_uri": "https://localhost:8080/",
          "height": 67
        },
        "outputId": "b75be204-2eea-4844-b44d-7cf1c7698009"
      },
      "source": [
        "def first_three(str):\n",
        "\treturn str[:3] if len(str) > 3 else str\n",
        "\n",
        "print(first_three('ipy'))\n",
        "print(first_three('pyt'))\n",
        "print(first_three('py'))"
      ],
      "execution_count": 2,
      "outputs": [
        {
          "output_type": "stream",
          "text": [
            "ipy\n",
            "pyt\n",
            "py\n"
          ],
          "name": "stdout"
        }
      ]
    },
    {
      "cell_type": "markdown",
      "metadata": {
        "id": "qOKQqYoXTSfd",
        "colab_type": "text"
      },
      "source": [
        "Q3. Write the Python program to find smallest window that contains all\n",
        "characters of the given string?\n",
        "\n",
        "    Original Strings:\n",
        "    asdaewsqgtwwsa\n",
        "    Smallest window that contains all characters of the said string:\n",
        "    Daewsqgt"
      ]
    },
    {
      "cell_type": "code",
      "metadata": {
        "id": "pI9LKL4dTSff",
        "colab_type": "code",
        "colab": {
          "base_uri": "https://localhost:8080/",
          "height": 101
        },
        "outputId": "53d6b997-c7b6-4b2d-a005-588c88e7cbf3"
      },
      "source": [
        "from collections import defaultdict   \n",
        "\n",
        "def find_sub_string(str): \n",
        "    str_len = len(str) \n",
        "      \n",
        "    # Count all distinct characters. \n",
        "    dist_count_char = len(set([x for x in str])) \n",
        "  \n",
        "    ctr, start_pos, start_pos_index, min_len = 0, 0, -1, 9999999999\n",
        "    curr_count = defaultdict(lambda: 0) \n",
        "    for i in range(str_len): \n",
        "        curr_count[str[i]] += 1\n",
        " \n",
        "        if curr_count[str[i]] == 1: \n",
        "            ctr += 1\n",
        "  \n",
        "        if ctr == dist_count_char: \n",
        "            while curr_count[str[start_pos]] > 1: \n",
        "                if curr_count[str[start_pos]] > 1: \n",
        "                    curr_count[str[start_pos]] -= 1\n",
        "                start_pos += 1\n",
        "  \n",
        "            len_window = i - start_pos + 1\n",
        "            if min_len > len_window: \n",
        "                min_len = len_window \n",
        "                start_pos_index = start_pos \n",
        "    return str[start_pos_index: start_pos_index + min_len] \n",
        "      \n",
        "str1 = \"asdaewsqgtwwsa\"\n",
        "print(\"Original Strings:\\n\",str1)\n",
        "print(\"\\nSmallest window that contains all characters of the said string:\")\n",
        "print(find_sub_string(str1))"
      ],
      "execution_count": 3,
      "outputs": [
        {
          "output_type": "stream",
          "text": [
            "Original Strings:\n",
            " asdaewsqgtwwsa\n",
            "\n",
            "Smallest window that contains all characters of the said string:\n",
            "daewsqgt\n"
          ],
          "name": "stdout"
        }
      ]
    },
    {
      "cell_type": "markdown",
      "metadata": {
        "id": "4mIuABVSTSfo",
        "colab_type": "text"
      },
      "source": [
        "Q4. Write the Python program to count number of substrings from a\n",
        "given string of lowercase alphabets with exactly k distinct (given)\n",
        "characters?\n",
        "\n",
        "    Input a string (lowercase alphabets): wolf\n",
        "    Input k: 4\n",
        "    Number of substrings with exactly 4 distinct characters: 1"
      ]
    },
    {
      "cell_type": "code",
      "metadata": {
        "id": "QRer4cJDTSfp",
        "colab_type": "code",
        "colab": {
          "base_uri": "https://localhost:8080/",
          "height": 67
        },
        "outputId": "b7b3936f-6894-45c4-957a-2527eca79551"
      },
      "source": [
        "def count_k_dist(str1, k): \n",
        "\tstr_len = len(str1) \n",
        "\t\n",
        "\tresult = 0\n",
        "\n",
        "\tctr = [0] * 27\n",
        "\n",
        "\tfor i in range(0, str_len): \n",
        "\t\tdist_ctr = 0\n",
        "\n",
        "\t\tctr = [0] * 27\n",
        "\n",
        "\t\tfor j in range(i, str_len): \n",
        "\t\t\t\n",
        "\t\t\tif(ctr[ord(str1[j]) - 97] == 0): \n",
        "\t\t\t\tdist_ctr += 1\n",
        "\n",
        "\t\t\tctr[ord(str1[j]) - 97] += 1\n",
        "\n",
        "\t\t\tif(dist_ctr == k): \n",
        "\t\t\t\tresult += 1\n",
        "\t\t\tif(dist_ctr > k): \n",
        "\t\t\t\tbreak\n",
        "\n",
        "\treturn result \n",
        "\n",
        "str1 = input(\"Input a string (lowercase alphabets):\")\n",
        "k = int(input(\"Input k: \"))\n",
        "print(\"Number of substrings with exactly\", k, \"distinct characters : \", end = \"\") \n",
        "print(count_k_dist(str1, k))"
      ],
      "execution_count": 4,
      "outputs": [
        {
          "output_type": "stream",
          "text": [
            "Input a string (lowercase alphabets):wolf\n",
            "Input k: 4\n",
            "Number of substrings with exactly 4 distinct characters : 1\n"
          ],
          "name": "stdout"
        }
      ]
    },
    {
      "cell_type": "markdown",
      "metadata": {
        "id": "WahdwxvsTSfw",
        "colab_type": "text"
      },
      "source": [
        "Q5. Write the Python program to count number of non-empty\n",
        "substrings of the given string?\n",
        "\n",
        "    Input a string: w3resource\n",
        "    Number of substrings:\n",
        "    55"
      ]
    },
    {
      "cell_type": "code",
      "metadata": {
        "id": "dqqoLhNLTSfz",
        "colab_type": "code",
        "colab": {
          "base_uri": "https://localhost:8080/",
          "height": 67
        },
        "outputId": "1a4281de-a384-4c45-bca1-20a20767918b"
      },
      "source": [
        "def number_of_substrings(str): \n",
        "\tstr_len = len(str); \n",
        "\treturn int(str_len * (str_len + 1) / 2); \n",
        "\n",
        "str1 = input(\"Input a string: \")\n",
        "print(\"Number of substrings:\") \n",
        "print(number_of_substrings(str1))"
      ],
      "execution_count": 5,
      "outputs": [
        {
          "output_type": "stream",
          "text": [
            "Input a string: w3resource\n",
            "Number of substrings:\n",
            "55\n"
          ],
          "name": "stdout"
        }
      ]
    },
    {
      "cell_type": "markdown",
      "metadata": {
        "id": "XVBvGOy6TSf4",
        "colab_type": "text"
      },
      "source": [
        "Q6. Write the Python program to count the number of strings where the\n",
        "string length is 2 or more, and first and last character are same\n",
        "from a given list of strings.\n",
        "\n",
        "    Sample List : ['abc', 'xyz', 'wxw', '1331']\n",
        "    Expected Result: 2"
      ]
    },
    {
      "cell_type": "code",
      "metadata": {
        "id": "exhac9pwTSf5",
        "colab_type": "code",
        "colab": {
          "base_uri": "https://localhost:8080/",
          "height": 34
        },
        "outputId": "5f8cc659-922c-45d0-cd41-aa291256e8f0"
      },
      "source": [
        "def match_words(words):\n",
        "  ctr = 0\n",
        "\n",
        "  for word in words:\n",
        "    if len(word) > 1 and word[0] == word[-1]:\n",
        "      ctr += 1\n",
        "  return ctr\n",
        "\n",
        "print(match_words(['abc', 'xyz', 'wxw', '1331']))"
      ],
      "execution_count": 7,
      "outputs": [
        {
          "output_type": "stream",
          "text": [
            "2\n"
          ],
          "name": "stdout"
        }
      ]
    },
    {
      "cell_type": "markdown",
      "metadata": {
        "id": "Csf6OGxrTSgC",
        "colab_type": "text"
      },
      "source": [
        "Q7. Write the Python program to get a list, sorted in increasing order by\n",
        "the last element in each tuple from the given list of non-empty\n",
        "tuples?\n",
        "\n",
        "    Sample List - [ (2, 5), (1, 2), (4, 4), (2, 3), (2, 1) ]\n",
        "    Expected Result - [ (2, 1), (1, 2), (2, 3), (4, 4), (2, 5) ]"
      ]
    },
    {
      "cell_type": "code",
      "metadata": {
        "id": "bEHhfTwbTSgE",
        "colab_type": "code",
        "colab": {
          "base_uri": "https://localhost:8080/",
          "height": 34
        },
        "outputId": "32e2928e-3a4d-49b3-ffd4-2073586bfe3e"
      },
      "source": [
        "def last(n): return n[-1]\n",
        "\n",
        "def sort_list_last(tuples):\n",
        "  return sorted(tuples, key=last)\n",
        "\n",
        "print(sort_list_last([(2, 5), (1, 2), (4, 4), (2, 3), (2, 1)]))"
      ],
      "execution_count": 8,
      "outputs": [
        {
          "output_type": "stream",
          "text": [
            "[(2, 1), (1, 2), (2, 3), (4, 4), (2, 5)]\n"
          ],
          "name": "stdout"
        }
      ]
    },
    {
      "cell_type": "markdown",
      "metadata": {
        "id": "iU_vZdkGTSgJ",
        "colab_type": "text"
      },
      "source": [
        "Q8. Write the Python program to remove duplicates from a list?"
      ]
    },
    {
      "cell_type": "code",
      "metadata": {
        "id": "uy-h-2xTTSgK",
        "colab_type": "code",
        "colab": {
          "base_uri": "https://localhost:8080/",
          "height": 34
        },
        "outputId": "ad0f4d3a-64e8-478c-8bd0-f72d26a05bd6"
      },
      "source": [
        "a = [10,20,30,20,10,50,60,40,80,50,40]\n",
        "\n",
        "dup_items = set()\n",
        "uniq_items = []\n",
        "for x in a:\n",
        "    if x not in dup_items:\n",
        "        uniq_items.append(x)\n",
        "        dup_items.add(x)\n",
        "\n",
        "print(dup_items)"
      ],
      "execution_count": 9,
      "outputs": [
        {
          "output_type": "stream",
          "text": [
            "{40, 10, 80, 50, 20, 60, 30}\n"
          ],
          "name": "stdout"
        }
      ]
    },
    {
      "cell_type": "markdown",
      "metadata": {
        "id": "sj--wZpHTSgR",
        "colab_type": "text"
      },
      "source": [
        "Q9. Write the Python program to find the list of words that are longer\n",
        "than n from a given list of words?"
      ]
    },
    {
      "cell_type": "code",
      "metadata": {
        "id": "6QRg528OTSgT",
        "colab_type": "code",
        "colab": {
          "base_uri": "https://localhost:8080/",
          "height": 34
        },
        "outputId": "9e630f80-2ac5-425b-902a-d4eeed0b3c1e"
      },
      "source": [
        "def long_words(n, str):\n",
        "    word_len = []\n",
        "    txt = str.split(\" \")\n",
        "    for x in txt:\n",
        "        if len(x) > n:\n",
        "            word_len.append(x)\n",
        "    return word_len\t\n",
        "print(long_words(3, \"The quick brown fox jumps over the lazy dog\"))"
      ],
      "execution_count": 10,
      "outputs": [
        {
          "output_type": "stream",
          "text": [
            "['quick', 'brown', 'jumps', 'over', 'lazy']\n"
          ],
          "name": "stdout"
        }
      ]
    },
    {
      "cell_type": "markdown",
      "metadata": {
        "id": "kwbvMhg3TSgZ",
        "colab_type": "text"
      },
      "source": [
        "Q10. Write the Python program to print a specified list after removing the\n",
        "0th, 4th, and 5th elements?\n",
        "    \n",
        "    Sample List - ['Red', 'Green', 'White', 'Black', 'Pink', 'Yellow']\n",
        "    Expected Output - ['Green', 'White', 'Black']"
      ]
    },
    {
      "cell_type": "code",
      "metadata": {
        "id": "morRrkuRTSgb",
        "colab_type": "code",
        "colab": {
          "base_uri": "https://localhost:8080/",
          "height": 34
        },
        "outputId": "87dcd4e0-2da5-48bc-a264-82b470c23d85"
      },
      "source": [
        "color = ['Red', 'Green', 'White', 'Black', 'Pink', 'Yellow']\n",
        "color = [x for (i,x) in enumerate(color) if i not in (0,4,5)]\n",
        "print(color)"
      ],
      "execution_count": 11,
      "outputs": [
        {
          "output_type": "stream",
          "text": [
            "['Green', 'White', 'Black']\n"
          ],
          "name": "stdout"
        }
      ]
    },
    {
      "cell_type": "markdown",
      "metadata": {
        "id": "Nc52FiDiTSgj",
        "colab_type": "text"
      },
      "source": [
        "Q11. Write the Python program to generate all permutations of a list in\n",
        "Python?"
      ]
    },
    {
      "cell_type": "code",
      "metadata": {
        "id": "z2az_Z07TSgl",
        "colab_type": "code",
        "colab": {
          "base_uri": "https://localhost:8080/",
          "height": 34
        },
        "outputId": "3153de75-7717-4791-df80-3cb0ee604bf0"
      },
      "source": [
        "import itertools\n",
        "print(list(itertools.permutations([1,2,3])))"
      ],
      "execution_count": 12,
      "outputs": [
        {
          "output_type": "stream",
          "text": [
            "[(1, 2, 3), (1, 3, 2), (2, 1, 3), (2, 3, 1), (3, 1, 2), (3, 2, 1)]\n"
          ],
          "name": "stdout"
        }
      ]
    },
    {
      "cell_type": "markdown",
      "metadata": {
        "id": "SmXz05dlTSgs",
        "colab_type": "text"
      },
      "source": [
        "Q12. Write the Python program to convert a pair of values into a sorted\n",
        "unique array?\n",
        " \n",
        "    Original List- [ (1, 2), (3, 4), (1, 2), (5, 6), (7, 8), (1, 2), (3, 4), (3, 4), (7, 8), (9, 10) ]\n",
        "    Sorted Unique Data- [ 1, 2, 3, 4, 5, 6, 7, 8, 9, 10 ] \n"
      ]
    },
    {
      "cell_type": "code",
      "metadata": {
        "id": "EHxBTB_GTSgt",
        "colab_type": "code",
        "colab": {
          "base_uri": "https://localhost:8080/",
          "height": 50
        },
        "outputId": "07224cf6-888c-4c24-c194-a80eb02dec16"
      },
      "source": [
        "L = [(1, 2), (3, 4), (1, 2), (5, 6), (7, 8), (1, 2), (3, 4), (3, 4),\n",
        " (7, 8), (9, 10)]\n",
        "print(\"Original List: \", L)\n",
        "print(\"Sorted Unique Data:\",sorted(set().union(*L)))"
      ],
      "execution_count": 13,
      "outputs": [
        {
          "output_type": "stream",
          "text": [
            "Original List:  [(1, 2), (3, 4), (1, 2), (5, 6), (7, 8), (1, 2), (3, 4), (3, 4), (7, 8), (9, 10)]\n",
            "Sorted Unique Data: [1, 2, 3, 4, 5, 6, 7, 8, 9, 10]\n"
          ],
          "name": "stdout"
        }
      ]
    },
    {
      "cell_type": "markdown",
      "metadata": {
        "id": "Oj1F0_XbTSg1",
        "colab_type": "text"
      },
      "source": [
        "## Great job!"
      ]
    }
  ]
}