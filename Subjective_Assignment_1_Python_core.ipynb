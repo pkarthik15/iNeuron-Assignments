{
  "nbformat": 4,
  "nbformat_minor": 0,
  "metadata": {
    "kernelspec": {
      "display_name": "Python 3",
      "language": "python",
      "name": "python3"
    },
    "language_info": {
      "codemirror_mode": {
        "name": "ipython",
        "version": 3
      },
      "file_extension": ".py",
      "mimetype": "text/x-python",
      "name": "python",
      "nbconvert_exporter": "python",
      "pygments_lexer": "ipython3",
      "version": "3.7.4"
    },
    "colab": {
      "name": "Subjective Assignment - 1- Python core.ipynb",
      "provenance": []
    }
  },
  "cells": [
    {
      "cell_type": "markdown",
      "metadata": {
        "id": "cnWxoUkmOwo3",
        "colab_type": "text"
      },
      "source": [
        "Q1. Write a Python program to get the string from the given string where\n",
        "all the occurrence of its first char has been changed to '$,' except first\n",
        "char itself?\n",
        "\n",
        "    Sample String: 'prospect'\n",
        "    Expected Result : 'pros$ect'\n"
      ]
    },
    {
      "cell_type": "code",
      "metadata": {
        "id": "lf7DhHISOwo7",
        "colab_type": "code",
        "colab": {
          "base_uri": "https://localhost:8080/",
          "height": 34
        },
        "outputId": "ba836c0a-eb89-4747-8171-ffc6d4e26982"
      },
      "source": [
        "def change_char(str1):\n",
        "  char = str1[0]\n",
        "  str1 = str1.replace(char, '$')\n",
        "  str1 = char + str1[1:]\n",
        "  return str1\n",
        "\n",
        "print(change_char('prospect'))"
      ],
      "execution_count": 2,
      "outputs": [
        {
          "output_type": "stream",
          "text": [
            "pros$ect\n"
          ],
          "name": "stdout"
        }
      ]
    },
    {
      "cell_type": "markdown",
      "metadata": {
        "id": "o5JOOKREOwpD",
        "colab_type": "text"
      },
      "source": [
        "Q2. Write a Python program to get the single string from the two given\n",
        "strings, and separated by the space and swap the first two characters of\n",
        "each string?\n",
        "\n",
        "    Sample String : 'abc', 'xyz'.\n",
        "    Expected Result: 'xyc abz'"
      ]
    },
    {
      "cell_type": "code",
      "metadata": {
        "id": "w6G8_awNOwpE",
        "colab_type": "code",
        "colab": {
          "base_uri": "https://localhost:8080/",
          "height": 34
        },
        "outputId": "f7dd3c66-1095-4b73-92e1-adf1bb0223b1"
      },
      "source": [
        "def chars_mix_up(a, b):\n",
        "  new_a = b[:2] + a[2:]\n",
        "  new_b = a[:2] + b[2:]\n",
        "\n",
        "  return new_a + ' ' + new_b\n",
        "print(chars_mix_up('abc', 'xyz'))"
      ],
      "execution_count": 3,
      "outputs": [
        {
          "output_type": "stream",
          "text": [
            "xyc abz\n"
          ],
          "name": "stdout"
        }
      ]
    },
    {
      "cell_type": "markdown",
      "metadata": {
        "id": "vvim5pPuOwpM",
        "colab_type": "text"
      },
      "source": [
        "Q3. Write the Python program to add 'ing' at the end of the given string\n",
        "(length of the string should be at least 3). If given string already ends\n",
        "with 'ing,' then add 'ly' instead. If string length of the given string is less\n",
        "than 3, leave it unchanged?\n",
        "\n",
        "\n",
        "    Sample string: ' abc '\n",
        "    Expected result: ' abcing '\n",
        "    Sample string: ' string '\n",
        "    Expected result: ' stringly '\n"
      ]
    },
    {
      "cell_type": "code",
      "metadata": {
        "id": "iJBVc4B4OwpO",
        "colab_type": "code",
        "colab": {
          "base_uri": "https://localhost:8080/",
          "height": 67
        },
        "outputId": "ea1fe6d2-dd83-4342-d3c4-21e76562926f"
      },
      "source": [
        "def add_string(str1):\n",
        "  length = len(str1)\n",
        "\n",
        "  if length > 2:\n",
        "    if str1[-3:] == 'ing':\n",
        "      str1 += 'ly'\n",
        "    else:\n",
        "      str1 += 'ing'\n",
        "\n",
        "  return str1\n",
        "print(add_string('ab'))\n",
        "print(add_string('abc'))\n",
        "print(add_string('string'))"
      ],
      "execution_count": 4,
      "outputs": [
        {
          "output_type": "stream",
          "text": [
            "ab\n",
            "abcing\n",
            "stringly\n"
          ],
          "name": "stdout"
        }
      ]
    },
    {
      "cell_type": "markdown",
      "metadata": {
        "id": "DCOPg3MjOwpV",
        "colab_type": "text"
      },
      "source": [
        "Q4. Write the Python program to find the first appearance of the\n",
        "substring 'not' and 'poor' from the given string, if 'not' follows the 'poor',\n",
        "replace the whole 'not'...' poor' substring with 'good'.Return the resulting\n",
        "string.\n",
        "\n",
        "    Sample string: 'The lyrics are not that poor!'\n",
        "    'The lyrics are poor!'\n",
        "    Expected Result: 'The lyrics are good!'\n",
        "    'The lyrics are poor!'"
      ]
    },
    {
      "cell_type": "code",
      "metadata": {
        "id": "2jb2MnDtOwpW",
        "colab_type": "code",
        "colab": {
          "base_uri": "https://localhost:8080/",
          "height": 50
        },
        "outputId": "2eed3835-e765-4f70-ebee-a90e979695ec"
      },
      "source": [
        "def not_poor(str1):\n",
        "  snot = str1.find('not')\n",
        "  spoor = str1.find('poor')\n",
        "  \n",
        "\n",
        "  if spoor > snot and snot>0 and spoor>0:\n",
        "    str1 = str1.replace(str1[snot:(spoor+4)], 'good')\n",
        "    return str1\n",
        "  else:\n",
        "    return str1\n",
        "print(not_poor('The lyrics is not that poor!'))\n",
        "print(not_poor('The lyrics is poor!'))"
      ],
      "execution_count": 5,
      "outputs": [
        {
          "output_type": "stream",
          "text": [
            "The lyrics is good!\n",
            "The lyrics is poor!\n"
          ],
          "name": "stdout"
        }
      ]
    },
    {
      "cell_type": "markdown",
      "metadata": {
        "id": "EaleySZyOwpd",
        "colab_type": "text"
      },
      "source": [
        "Q5. Write the Python program to remove the characters which have odd\n",
        "index values of a given string."
      ]
    },
    {
      "cell_type": "code",
      "metadata": {
        "id": "gDGW-HpnOwpf",
        "colab_type": "code",
        "colab": {
          "base_uri": "https://localhost:8080/",
          "height": 50
        },
        "outputId": "825020ed-6ded-45a1-9c08-d59112757e60"
      },
      "source": [
        "def odd_values_string(str):\n",
        "  result = \"\" \n",
        "  for i in range(len(str)):\n",
        "    if i % 2 == 0:\n",
        "      result = result + str[i]\n",
        "  return result\n",
        "\n",
        "print(odd_values_string('abcdef'))\n",
        "print(odd_values_string('python'))"
      ],
      "execution_count": 6,
      "outputs": [
        {
          "output_type": "stream",
          "text": [
            "ace\n",
            "pto\n"
          ],
          "name": "stdout"
        }
      ]
    },
    {
      "cell_type": "markdown",
      "metadata": {
        "id": "eTmhjSMIOwpo",
        "colab_type": "text"
      },
      "source": [
        "Q6. Write the python program to print the following floating numbers up\n",
        "to 2 decimal places?"
      ]
    },
    {
      "cell_type": "code",
      "metadata": {
        "id": "vxrKf86iOwpp",
        "colab_type": "code",
        "colab": {
          "base_uri": "https://localhost:8080/",
          "height": 118
        },
        "outputId": "f7ede2fa-cfd5-4bc7-cdc6-73c8e5efd8ea"
      },
      "source": [
        "x = 3.1415926\n",
        "y = 12.9999\n",
        "print(\"\\nOriginal Number: \", x)\n",
        "print(\"Formatted Number: \"+\"{:.2f}\".format(x));\n",
        "print(\"Original Number: \", y)\n",
        "print(\"Formatted Number: \"+\"{:.2f}\".format(y));\n",
        "print() "
      ],
      "execution_count": 7,
      "outputs": [
        {
          "output_type": "stream",
          "text": [
            "\n",
            "Original Number:  3.1415926\n",
            "Formatted Number: 3.14\n",
            "Original Number:  12.9999\n",
            "Formatted Number: 13.00\n",
            "\n"
          ],
          "name": "stdout"
        }
      ]
    },
    {
      "cell_type": "markdown",
      "metadata": {
        "id": "vgKqPd4_Owpy",
        "colab_type": "text"
      },
      "source": [
        "Q7. Write the Python program to format a number with a percentage?"
      ]
    },
    {
      "cell_type": "code",
      "metadata": {
        "id": "WA8aMOejOwpz",
        "colab_type": "code",
        "colab": {
          "base_uri": "https://localhost:8080/",
          "height": 118
        },
        "outputId": "880a7651-493c-4757-fee7-e89082b9a300"
      },
      "source": [
        "x = 0.25\n",
        "y = -0.25\n",
        "print(\"\\nOriginal Number: \", x)\n",
        "print(\"Formatted Number with percentage: \"+\"{:.2%}\".format(x));\n",
        "print(\"Original Number: \", y)\n",
        "print(\"Formatted Number with percentage: \"+\"{:.2%}\".format(y));\n",
        "print()"
      ],
      "execution_count": 8,
      "outputs": [
        {
          "output_type": "stream",
          "text": [
            "\n",
            "Original Number:  0.25\n",
            "Formatted Number with percentage: 25.00%\n",
            "Original Number:  -0.25\n",
            "Formatted Number with percentage: -25.00%\n",
            "\n"
          ],
          "name": "stdout"
        }
      ]
    },
    {
      "cell_type": "markdown",
      "metadata": {
        "id": "JU8mgESPOwp5",
        "colab_type": "text"
      },
      "source": [
        "Q8. Write the Python program to count occurrences of a substring in a\n",
        "String?"
      ]
    },
    {
      "cell_type": "code",
      "metadata": {
        "id": "EyltMc1AOwp7",
        "colab_type": "code",
        "colab": {
          "base_uri": "https://localhost:8080/",
          "height": 67
        },
        "outputId": "4c5974aa-8f73-4146-84a2-f264ed64480a"
      },
      "source": [
        "str1 = 'The quick brown fox jumps over the lazy dog.'\n",
        "print()\n",
        "print(str1.count(\"fox\"))\n",
        "print()"
      ],
      "execution_count": 9,
      "outputs": [
        {
          "output_type": "stream",
          "text": [
            "\n",
            "1\n",
            "\n"
          ],
          "name": "stdout"
        }
      ]
    },
    {
      "cell_type": "markdown",
      "metadata": {
        "id": "JqHU0IzIOwqB",
        "colab_type": "text"
      },
      "source": [
        "Q9. Write the Python program to count repeated characters in a string.\n",
        "\n",
        "    Sample string: ' thequickbrownjumpsoverthelazydog '\n",
        "    \n",
        "    Expected output:\n",
        "    o 3\n",
        "    e 3\n",
        "    u 2\n",
        "    h 2\n",
        "    r 2\n",
        "    t 2"
      ]
    },
    {
      "cell_type": "code",
      "metadata": {
        "id": "u7eSZiruOwqC",
        "colab_type": "code",
        "colab": {
          "base_uri": "https://localhost:8080/",
          "height": 134
        },
        "outputId": "9bd6b04d-ef88-4d27-ae0b-b8ed3ee3ac6b"
      },
      "source": [
        "import collections\n",
        "str1 = ' thequickbrownjumpsoverthelazydog '\n",
        "d = collections.defaultdict(int)\n",
        "for c in str1:\n",
        "    d[c] += 1\n",
        "\n",
        "for c in sorted(d, key=d.get, reverse=True):\n",
        "  if d[c] > 1:\n",
        "      print('%s %d' % (c, d[c]))"
      ],
      "execution_count": 10,
      "outputs": [
        {
          "output_type": "stream",
          "text": [
            "e 3\n",
            "o 3\n",
            "  2\n",
            "t 2\n",
            "h 2\n",
            "u 2\n",
            "r 2\n"
          ],
          "name": "stdout"
        }
      ]
    },
    {
      "cell_type": "markdown",
      "metadata": {
        "id": "VIgakNRxOwqJ",
        "colab_type": "text"
      },
      "source": [
        "Q10. Write the Python program to print the square and cube symbol in\n",
        "the area of a rectangle and volume of a cylinder?\n",
        "\n",
        "    Sample outputThe area of the rectangle is 1256.66cm2\n",
        "    The volume of the cylinder is 1254.725cm3\n"
      ]
    },
    {
      "cell_type": "code",
      "metadata": {
        "id": "pb5G7tPgOwqL",
        "colab_type": "code",
        "colab": {
          "base_uri": "https://localhost:8080/",
          "height": 50
        },
        "outputId": "214c0b80-f704-479c-9831-74d7b6ed6c59"
      },
      "source": [
        "area = 1256.66\n",
        "volume = 1254.725\n",
        "decimals = 2\n",
        "print(\"The area of the rectangle is {0:.{1}f}cm\\u00b2\".format(area, decimals))\n",
        "decimals = 3\n",
        "print(\"The volume of the cylinder is {0:.{1}f}cm\\u00b3\".format(volume, decimals))"
      ],
      "execution_count": 11,
      "outputs": [
        {
          "output_type": "stream",
          "text": [
            "The area of the rectangle is 1256.66cm²\n",
            "The volume of the cylinder is 1254.725cm³\n"
          ],
          "name": "stdout"
        }
      ]
    },
    {
      "cell_type": "markdown",
      "metadata": {
        "id": "Oy2-Tb7QOwqW",
        "colab_type": "text"
      },
      "source": [
        "Q11. Write the Python program to check if a string contains all letters of\n",
        "the alphabet?"
      ]
    },
    {
      "cell_type": "code",
      "metadata": {
        "id": "txnHxHTJOwqX",
        "colab_type": "code",
        "colab": {
          "base_uri": "https://localhost:8080/",
          "height": 50
        },
        "outputId": "1118c40a-fa9d-45f5-bf98-fd51da9797cc"
      },
      "source": [
        "import string\n",
        "alphabet = set(string.ascii_lowercase)\n",
        "input_string = 'The quick brown fox jumps over the lazy dog'\n",
        "print(set(input_string.lower()) >= alphabet)\n",
        "input_string = 'The quick brown fox jumps over the lazy cat'\n",
        "print(set(input_string.lower()) >= alphabet)\n"
      ],
      "execution_count": 12,
      "outputs": [
        {
          "output_type": "stream",
          "text": [
            "True\n",
            "False\n"
          ],
          "name": "stdout"
        }
      ]
    },
    {
      "cell_type": "markdown",
      "metadata": {
        "id": "PYHaWnxLOwqd",
        "colab_type": "text"
      },
      "source": [
        "Q12. Write the Python program to find the second most repeated word\n",
        "in a given string?"
      ]
    },
    {
      "cell_type": "code",
      "metadata": {
        "id": "vq7WV85xOwqe",
        "colab_type": "code",
        "colab": {
          "base_uri": "https://localhost:8080/",
          "height": 34
        },
        "outputId": "228f6204-bbad-44f4-a273-d37d83b285cd"
      },
      "source": [
        "def word_count(str):\n",
        "    counts = dict()\n",
        "    words = str.split()\n",
        "\n",
        "    for word in words:\n",
        "        if word in counts:\n",
        "            counts[word] += 1\n",
        "        else:\n",
        "            counts[word] = 1\n",
        "\n",
        "    counts_x = sorted(counts.items(), key=lambda kv: kv[1])\n",
        "    return counts_x[-2]\n",
        "\n",
        "print(word_count(\"Technology, the application of scientific knowledge to the practical aims of human life or, as it is sometimes phrased, to the change and manipulation of the human environment\"))"
      ],
      "execution_count": 14,
      "outputs": [
        {
          "output_type": "stream",
          "text": [
            "('of', 3)\n"
          ],
          "name": "stdout"
        }
      ]
    },
    {
      "cell_type": "markdown",
      "metadata": {
        "id": "mrm3BXSpOwqk",
        "colab_type": "text"
      },
      "source": [
        "Q13. Write the Python program to find the minimum window in the given\n",
        "string, which will contains all the characters of another given\n",
        "strings?\n",
        "\n",
        "    Example 1\n",
        "    Input : string1 = \" PRWSOERIUSFK \"\n",
        "    string2 = \" OSU \"\n",
        "    Output: Minimum window is \"OERIUS\""
      ]
    },
    {
      "cell_type": "code",
      "metadata": {
        "id": "aAJFXGXROwql",
        "colab_type": "code",
        "colab": {
          "base_uri": "https://localhost:8080/",
          "height": 101
        },
        "outputId": "a4a56383-42d2-4282-b765-fe840a89c981"
      },
      "source": [
        "import collections\n",
        "def min_window(str1, str2):\n",
        "    result_char, missing_char = collections.Counter(str2), len(str2)\n",
        "    i = p = q = 0\n",
        "    for j, c in enumerate(str1, 1):\n",
        "        missing_char -= result_char[c] > 0\n",
        "        result_char[c] -= 1\n",
        "        if not missing_char:\n",
        "            while i < q and result_char[str1[i]] < 0:\n",
        "                result_char[str1[i]] += 1\n",
        "                i += 1\n",
        "            if not q or j - i <= q - p:\n",
        "                p, q = i, j\n",
        "    return str1[p:q]\n",
        "           \n",
        "str1 = \" PRWSOERIUSFK \"\n",
        "str2 = \" OSU \"\n",
        "print(\"Original Strings:\\n\",str1,\"\\n\",str2)\n",
        "print(\"Minimum window:\")\n",
        "print(min_window(str1,str2))"
      ],
      "execution_count": 16,
      "outputs": [
        {
          "output_type": "stream",
          "text": [
            "Original Strings:\n",
            "  PRWSOERIUSFK  \n",
            "  OSU \n",
            "Minimum window:\n",
            " PRWSOERIUSFK \n"
          ],
          "name": "stdout"
        }
      ]
    },
    {
      "cell_type": "markdown",
      "metadata": {
        "id": "V36uvVL7Owqr",
        "colab_type": "text"
      },
      "source": [
        "Q14. Write the Python program to count number of substrings from a\n",
        "given string of lowercase alphabets with exactly k distinct (given)\n",
        "characters?\n",
        "\n",
        "    Input a string (lowercase alphabets): wolf\n",
        "    Input k: 4\n",
        "    Number of substrings with exactly 4 distinct characters: 1"
      ]
    },
    {
      "cell_type": "code",
      "metadata": {
        "id": "XA1QXdGNOwqs",
        "colab_type": "code",
        "colab": {
          "base_uri": "https://localhost:8080/",
          "height": 67
        },
        "outputId": "35bae5d8-877f-41d1-c470-da989c24549f"
      },
      "source": [
        "def count_k_dist(str1, k): \n",
        "\tstr_len = len(str1) \n",
        "\t\n",
        "\tresult = 0\n",
        "\n",
        "\tctr = [0] * 27\n",
        "\n",
        "\tfor i in range(0, str_len): \n",
        "\t\tdist_ctr = 0\n",
        "\n",
        "\t\tctr = [0] * 27\n",
        "\n",
        "\t\tfor j in range(i, str_len): \n",
        "\t\t\t\n",
        "\t\t\tif(ctr[ord(str1[j]) - 97] == 0): \n",
        "\t\t\t\tdist_ctr += 1\n",
        "\n",
        "\t\t\tctr[ord(str1[j]) - 97] += 1\n",
        "\n",
        "\t\t\tif(dist_ctr == k): \n",
        "\t\t\t\tresult += 1\n",
        "\t\t\tif(dist_ctr > k): \n",
        "\t\t\t\tbreak\n",
        "\n",
        "\treturn result \n",
        "\n",
        "str1 = input(\"Input a string (lowercase alphabets):\")\n",
        "k = int(input(\"Input k: \"))\n",
        "print(\"Number of substrings with exactly\", k, \"distinct characters : \", end = \"\") \n",
        "print(count_k_dist(str1, k))"
      ],
      "execution_count": 18,
      "outputs": [
        {
          "output_type": "stream",
          "text": [
            "Input a string (lowercase alphabets):test\n",
            "Input k: 4\n",
            "Number of substrings with exactly 4 distinct characters : 0\n"
          ],
          "name": "stdout"
        }
      ]
    },
    {
      "cell_type": "markdown",
      "metadata": {
        "id": "ciLH5pQEOwqz",
        "colab_type": "text"
      },
      "source": [
        "Q15. Write the Python program to count number of substrings with same\n",
        "first and last characters of the given string?\n",
        "\n",
        "    Input a string: abcd\n",
        "    4\n"
      ]
    },
    {
      "cell_type": "code",
      "metadata": {
        "id": "K0U1_y_3Owq1",
        "colab_type": "code",
        "colab": {
          "base_uri": "https://localhost:8080/",
          "height": 34
        },
        "outputId": "6a8bb9d3-93c7-4d34-9c60-1333cdcf3129"
      },
      "source": [
        "def checkEquality(s): \n",
        "    return (ord(s[0]) == ord(s[len(s) - 1])); \n",
        "  \n",
        "def countSubstringWithEqualEnds(s): \n",
        "    result = 0; \n",
        "    n = len(s); \n",
        "  \n",
        "    # Starting poof substring \n",
        "    for i in range(n): \n",
        "  \n",
        "    # Length of substring \n",
        "        for j in range(1,n-i+1): \n",
        "  \n",
        "        # Check if current substring has same \n",
        "        # starting and ending characters. \n",
        "            if (checkEquality(s[i:i+j])): \n",
        "                result+=1; \n",
        "  \n",
        "    return result; \n",
        "  \n",
        "# Driver code \n",
        "s = \"abcd\"; \n",
        "print(countSubstringWithEqualEnds(s)); "
      ],
      "execution_count": 19,
      "outputs": [
        {
          "output_type": "stream",
          "text": [
            "4\n"
          ],
          "name": "stdout"
        }
      ]
    },
    {
      "cell_type": "markdown",
      "metadata": {
        "id": "I3My7p3zOwq7",
        "colab_type": "text"
      },
      "source": [
        "## Great Job!"
      ]
    }
  ]
}